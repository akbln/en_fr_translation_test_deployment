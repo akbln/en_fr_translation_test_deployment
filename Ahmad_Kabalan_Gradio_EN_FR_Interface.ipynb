{
  "nbformat": 4,
  "nbformat_minor": 0,
  "metadata": {
    "colab": {
      "provenance": [],
      "authorship_tag": "ABX9TyOtpSvpVrG4RKaqeA/S+2+Q",
      "include_colab_link": true
    },
    "kernelspec": {
      "name": "python3",
      "display_name": "Python 3"
    },
    "language_info": {
      "name": "python"
    }
  },
  "cells": [
    {
      "cell_type": "markdown",
      "metadata": {
        "id": "view-in-github",
        "colab_type": "text"
      },
      "source": [
        "<a href=\"https://colab.research.google.com/github/akbln/en_fr_translation_test_deployment/blob/main/Ahmad_Kabalan_Gradio_EN_FR_Interface.ipynb\" target=\"_parent\"><img src=\"https://colab.research.google.com/assets/colab-badge.svg\" alt=\"Open In Colab\"/></a>"
      ]
    },
    {
      "cell_type": "code",
      "source": [
        "# Download the model and tokenizers\n",
        "import gdown\n",
        "\n",
        "file_ids = {\n",
        "    'model.keras': '1LVr5ranuhkWijWdatpqmPkIT8-hAg2yq',\n",
        "    'english_tokenizer.json': '1BmezVYQjo7GyWhoTr7p2mOfK3_PenpIt',\n",
        "    'french_tokenizer.json': '1-w5CloLXg0PnMn14-Pgoxwe1xlLWs-sG'\n",
        "}\n",
        "\n",
        "# Download and save each file in the Colab environment\n",
        "for filename, file_id in file_ids.items():\n",
        "    url = f\"https://drive.google.com/uc?id={file_id}\"\n",
        "    gdown.download(url, filename, quiet=True)\n",
        "    print(f\"Downloaded {filename} successfully!\")\n"
      ],
      "metadata": {
        "colab": {
          "base_uri": "https://localhost:8080/"
        },
        "id": "chkeIVc2EBcj",
        "outputId": "939c3418-7f71-4bcc-89fe-8c955d6f3b11"
      },
      "execution_count": 1,
      "outputs": [
        {
          "output_type": "stream",
          "name": "stdout",
          "text": [
            "Downloaded model.keras successfully!\n",
            "Downloaded english_tokenizer.json successfully!\n",
            "Downloaded french_tokenizer.json successfully!\n"
          ]
        }
      ]
    },
    {
      "cell_type": "code",
      "execution_count": 2,
      "metadata": {
        "id": "orpsQlXP-k4i"
      },
      "outputs": [],
      "source": [
        "# Define the model as a class\n",
        "import numpy as np\n",
        "import json\n",
        "from tensorflow.keras.preprocessing.sequence import pad_sequences\n",
        "from tensorflow.keras.preprocessing.text import tokenizer_from_json\n",
        "from tensorflow.keras.saving import load_model\n",
        "\n",
        "class TranslationModel:\n",
        "    def __init__(self, model_path, eng_tokenizer_path, fr_tokenizer_path, max_eng_length, max_fr_length):\n",
        "        self.model_path = model_path\n",
        "        self.eng_tokenizer_path = eng_tokenizer_path\n",
        "        self.fr_tokenizer_path = fr_tokenizer_path\n",
        "        self.max_eng_length = max_eng_length\n",
        "        self.max_fr_length = max_fr_length\n",
        "        self.model = None\n",
        "        self.eng_tokenizer = None\n",
        "        self.fr_tokenizer = None\n",
        "\n",
        "        # Load the model and tokenizers\n",
        "        self.load_model()\n",
        "        self.load_tokenizers()\n",
        "\n",
        "    def load_model(self):\n",
        "        self.model = load_model(self.model_path)\n",
        "\n",
        "\n",
        "    def load_tokenizers(self):\n",
        "\n",
        "        with open(self.eng_tokenizer_path, \"r\") as file:\n",
        "            self.eng_tokenizer = tokenizer_from_json(json.load(file))\n",
        "        with open(self.fr_tokenizer_path, \"r\") as file:\n",
        "            self.fr_tokenizer = tokenizer_from_json(json.load(file))\n",
        "        print(\"Tokenizers loaded successfully.\")\n",
        "\n",
        "\n",
        "    def translate_sentence(self, eng_sentence):\n",
        "        if not self.model or not self.eng_tokenizer or not self.fr_tokenizer:\n",
        "            return \"Model or tokenizers not loaded.\"\n",
        "\n",
        "        eng_sequence = self.eng_tokenizer.texts_to_sequences([eng_sentence])\n",
        "        eng_sequence = pad_sequences(eng_sequence, maxlen=self.max_eng_length, padding='post')\n",
        "\n",
        "        # Generate predictions\n",
        "        predictions = self.model.predict(eng_sequence)\n",
        "\n",
        "        # Convert predictions to French words\n",
        "        fr_sentence = []\n",
        "        for time_step in predictions[0]:\n",
        "            word_index = np.argmax(time_step)\n",
        "            if word_index == 0:  # Stop at the padding or end token\n",
        "                break\n",
        "            word = self.fr_tokenizer.index_word.get(word_index, '')\n",
        "            if word:\n",
        "                fr_sentence.append(word)\n",
        "\n",
        "        return ' '.join(fr_sentence)\n"
      ]
    },
    {
      "cell_type": "code",
      "source": [
        "!pip install gradio"
      ],
      "metadata": {
        "id": "04Bog4am_6NY"
      },
      "execution_count": null,
      "outputs": []
    },
    {
      "cell_type": "code",
      "source": [
        "import gradio as gr\n",
        "\n",
        "model = TranslationModel(model_path=\"./model.keras\",\n",
        "                         eng_tokenizer_path=\"./english_tokenizer.json\",\n",
        "                         fr_tokenizer_path=\"./french_tokenizer.json\",\n",
        "                         max_fr_length=21,\n",
        "                         max_eng_length=15\n",
        "                         )\n",
        "def greet(english_sentence):\n",
        "    return model.translate_sentence(english_sentence)\n",
        "\n",
        "interface = gr.Interface(\n",
        "    fn=greet,\n",
        "    inputs = gr.Textbox(label=\"English sentence: \"),\n",
        "    outputs = gr.Textbox(label=\"French Translation:\"),\n",
        "    allow_flagging=\"never\",\n",
        "    submit_btn = gr.Button(value=\"Translate\")\n",
        ")\n",
        "\n",
        "interface.launch()"
      ],
      "metadata": {
        "colab": {
          "base_uri": "https://localhost:8080/",
          "height": 733
        },
        "id": "XOEWlaPg_fY6",
        "outputId": "ee16e8d2-6f90-436b-daf9-eae03742d4db"
      },
      "execution_count": 4,
      "outputs": [
        {
          "output_type": "stream",
          "name": "stderr",
          "text": [
            "/usr/local/lib/python3.11/dist-packages/keras/src/saving/saving_lib.py:757: UserWarning: Skipping variable loading for optimizer 'rmsprop', because it has 17 variables whereas the saved optimizer has 32 variables. \n",
            "  saveable.load_own_variables(weights_store.get(inner_path))\n"
          ]
        },
        {
          "output_type": "stream",
          "name": "stdout",
          "text": [
            "Tokenizers loaded successfully.\n"
          ]
        },
        {
          "output_type": "stream",
          "name": "stderr",
          "text": [
            "/usr/local/lib/python3.11/dist-packages/gradio/interface.py:403: UserWarning: The `allow_flagging` parameter in `Interface` is deprecated.Use `flagging_mode` instead.\n",
            "  warnings.warn(\n"
          ]
        },
        {
          "output_type": "stream",
          "name": "stdout",
          "text": [
            "Running Gradio in a Colab notebook requires sharing enabled. Automatically setting `share=True` (you can turn this off by setting `share=False` in `launch()` explicitly).\n",
            "\n",
            "Colab notebook detected. To show errors in colab notebook, set debug=True in launch()\n",
            "* Running on public URL: https://5e5b2f133d1d238d8d.gradio.live\n",
            "\n",
            "This share link expires in 72 hours. For free permanent hosting and GPU upgrades, run `gradio deploy` from the terminal in the working directory to deploy to Hugging Face Spaces (https://huggingface.co/spaces)\n"
          ]
        },
        {
          "output_type": "display_data",
          "data": {
            "text/plain": [
              "<IPython.core.display.HTML object>"
            ],
            "text/html": [
              "<div><iframe src=\"https://5e5b2f133d1d238d8d.gradio.live\" width=\"100%\" height=\"500\" allow=\"autoplay; camera; microphone; clipboard-read; clipboard-write;\" frameborder=\"0\" allowfullscreen></iframe></div>"
            ]
          },
          "metadata": {}
        },
        {
          "output_type": "execute_result",
          "data": {
            "text/plain": []
          },
          "metadata": {},
          "execution_count": 4
        }
      ]
    }
  ]
}